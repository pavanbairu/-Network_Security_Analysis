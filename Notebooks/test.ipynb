{
 "cells": [
  {
   "cell_type": "code",
   "execution_count": 1,
   "metadata": {},
   "outputs": [],
   "source": [
    "hyperparameters = {\n",
    "                \"LogisticRegression\": {\n",
    "                    \"penalty\": [\"l1\", \"l2\", \"elasticnet\", None],\n",
    "                    \"C\": [0.01, 0.1, 1.0, 10, 100],\n",
    "                    \"solver\": [\"newton-cg\", \"lbfgs\", \"liblinear\", \"saga\"],\n",
    "                    \"max_iter\": [100, 200, 500],\n",
    "                },\n",
    "                \"KNeighborsClassifier\": {\n",
    "                    \"n_neighbors\": [3, 5, 7, 9],\n",
    "                    \"weights\": [\"uniform\", \"distance\"],\n",
    "                    \"metric\": [\"euclidean\", \"manhattan\", \"minkowski\"],\n",
    "                }\n",
    "}"
   ]
  },
  {
   "cell_type": "code",
   "execution_count": 2,
   "metadata": {},
   "outputs": [
    {
     "name": "stdout",
     "output_type": "stream",
     "text": [
      "{'penalty': ['l1', 'l2', 'elasticnet', None], 'C': [0.01, 0.1, 1.0, 10, 100], 'solver': ['newton-cg', 'lbfgs', 'liblinear', 'saga'], 'max_iter': [100, 200, 500]}\n",
      "{'n_neighbors': [3, 5, 7, 9], 'weights': ['uniform', 'distance'], 'metric': ['euclidean', 'manhattan', 'minkowski']}\n"
     ]
    }
   ],
   "source": [
    "for i in range(len(list(hyperparameters))):\n",
    "\n",
    "    param = list(hyperparameters.values())[i]\n",
    "    print(param)"
   ]
  },
  {
   "cell_type": "code",
   "execution_count": 3,
   "metadata": {},
   "outputs": [],
   "source": [
    "from sklearn.linear_model import LogisticRegression\n",
    "from sklearn.neighbors import KNeighborsClassifier\n",
    "from sklearn.tree import DecisionTreeClassifier\n",
    "from sklearn.ensemble import RandomForestClassifier\n",
    "from sklearn.ensemble import GradientBoostingClassifier\n",
    "from sklearn.ensemble import AdaBoostClassifier\n",
    "models = {\n",
    "                \"LogisticRegression\" : LogisticRegression(),\n",
    "                \"KNeighborsClassifier\" : KNeighborsClassifier(),\n",
    "\n",
    "            }"
   ]
  },
  {
   "cell_type": "code",
   "execution_count": 4,
   "metadata": {},
   "outputs": [
    {
     "name": "stdout",
     "output_type": "stream",
     "text": [
      "{'penalty': ['l1', 'l2', 'elasticnet', None], 'C': [0.01, 0.1, 1.0, 10, 100], 'solver': ['newton-cg', 'lbfgs', 'liblinear', 'saga'], 'max_iter': [100, 200, 500]}\n",
      "{'n_neighbors': [3, 5, 7, 9], 'weights': ['uniform', 'distance'], 'metric': ['euclidean', 'manhattan', 'minkowski']}\n"
     ]
    }
   ],
   "source": [
    "for i in range(len(list(models))):\n",
    "    model = list(models.values())[i]\n",
    "    para=hyperparameters[list(models.keys())[i]]\n",
    "    print(para)"
   ]
  },
  {
   "cell_type": "code",
   "execution_count": 22,
   "metadata": {},
   "outputs": [],
   "source": [
    "report = {}\n",
    "values = [54, 45]\n",
    "for i in range(len(list(models))):\n",
    "\n",
    "    model = list(models.values())[i]\n",
    "    param = list(hyperparameters.values())[i]\n",
    "\n",
    "\n",
    "    train_r2_score = None\n",
    "    test_r2_score = None\n",
    "\n",
    "    report.update({\n",
    "        list(models.keys())[i]: values[i]\n",
    "    })"
   ]
  },
  {
   "cell_type": "code",
   "execution_count": 23,
   "metadata": {},
   "outputs": [
    {
     "data": {
      "text/plain": [
       "54"
      ]
     },
     "execution_count": 23,
     "metadata": {},
     "output_type": "execute_result"
    }
   ],
   "source": [
    "best_model_score = max(sorted(report.values()))\n",
    "best_model_score"
   ]
  },
  {
   "cell_type": "code",
   "execution_count": 24,
   "metadata": {},
   "outputs": [
    {
     "data": {
      "text/plain": [
       "{'LogisticRegression': 54, 'KNeighborsClassifier': 45}"
      ]
     },
     "execution_count": 24,
     "metadata": {},
     "output_type": "execute_result"
    }
   ],
   "source": [
    "report"
   ]
  },
  {
   "cell_type": "code",
   "execution_count": 27,
   "metadata": {},
   "outputs": [
    {
     "data": {
      "text/plain": [
       "'LogisticRegression'"
      ]
     },
     "execution_count": 27,
     "metadata": {},
     "output_type": "execute_result"
    }
   ],
   "source": [
    "value_index = list(report.values()).index(best_model_score)\n",
    "list(report.keys())[0]"
   ]
  },
  {
   "cell_type": "code",
   "execution_count": 14,
   "metadata": {},
   "outputs": [
    {
     "data": {
      "text/plain": [
       "'LogisticRegression'"
      ]
     },
     "execution_count": 14,
     "metadata": {},
     "output_type": "execute_result"
    }
   ],
   "source": [
    "model_report = report\n",
    "name = list(model_report.keys())[list(model_report.values()).index(best_model_score)]\n",
    "name"
   ]
  },
  {
   "cell_type": "code",
   "execution_count": null,
   "metadata": {},
   "outputs": [],
   "source": []
  }
 ],
 "metadata": {
  "kernelspec": {
   "display_name": "Python 3",
   "language": "python",
   "name": "python3"
  },
  "language_info": {
   "codemirror_mode": {
    "name": "ipython",
    "version": 3
   },
   "file_extension": ".py",
   "mimetype": "text/x-python",
   "name": "python",
   "nbconvert_exporter": "python",
   "pygments_lexer": "ipython3",
   "version": "3.12.1"
  }
 },
 "nbformat": 4,
 "nbformat_minor": 2
}
